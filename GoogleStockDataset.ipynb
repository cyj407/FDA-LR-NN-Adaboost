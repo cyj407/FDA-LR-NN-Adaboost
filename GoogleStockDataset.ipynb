{
 "cells": [
  {
   "cell_type": "code",
   "execution_count": 1,
   "metadata": {},
   "outputs": [
    {
     "name": "stderr",
     "output_type": "stream",
     "text": [
      "Using TensorFlow backend.\n"
     ]
    }
   ],
   "source": [
    "from sklearn.linear_model import LogisticRegression\n",
    "import pandas as pd\n",
    "import numpy as np\n",
    "import matplotlib.pyplot as plt\n",
    "from keras import models, layers, optimizers, regularizers\n",
    "from sklearn import ensemble"
   ]
  },
  {
   "cell_type": "code",
   "execution_count": 2,
   "metadata": {},
   "outputs": [
    {
     "data": {
      "text/html": [
       "<div>\n",
       "<style scoped>\n",
       "    .dataframe tbody tr th:only-of-type {\n",
       "        vertical-align: middle;\n",
       "    }\n",
       "\n",
       "    .dataframe tbody tr th {\n",
       "        vertical-align: top;\n",
       "    }\n",
       "\n",
       "    .dataframe thead th {\n",
       "        text-align: right;\n",
       "    }\n",
       "</style>\n",
       "<table border=\"1\" class=\"dataframe\">\n",
       "  <thead>\n",
       "    <tr style=\"text-align: right;\">\n",
       "      <th></th>\n",
       "      <th>Date</th>\n",
       "      <th>Open</th>\n",
       "      <th>High</th>\n",
       "      <th>Low</th>\n",
       "      <th>Close</th>\n",
       "      <th>Volume</th>\n",
       "    </tr>\n",
       "  </thead>\n",
       "  <tbody>\n",
       "    <tr>\n",
       "      <th>0</th>\n",
       "      <td>1/3/2012</td>\n",
       "      <td>325.25</td>\n",
       "      <td>332.83</td>\n",
       "      <td>324.97</td>\n",
       "      <td>663.59</td>\n",
       "      <td>7380500</td>\n",
       "    </tr>\n",
       "    <tr>\n",
       "      <th>1</th>\n",
       "      <td>1/4/2012</td>\n",
       "      <td>331.27</td>\n",
       "      <td>333.87</td>\n",
       "      <td>329.08</td>\n",
       "      <td>666.45</td>\n",
       "      <td>5749400</td>\n",
       "    </tr>\n",
       "    <tr>\n",
       "      <th>2</th>\n",
       "      <td>1/5/2012</td>\n",
       "      <td>329.83</td>\n",
       "      <td>330.75</td>\n",
       "      <td>326.89</td>\n",
       "      <td>657.21</td>\n",
       "      <td>6590300</td>\n",
       "    </tr>\n",
       "    <tr>\n",
       "      <th>3</th>\n",
       "      <td>1/6/2012</td>\n",
       "      <td>328.34</td>\n",
       "      <td>328.77</td>\n",
       "      <td>323.68</td>\n",
       "      <td>648.24</td>\n",
       "      <td>5405900</td>\n",
       "    </tr>\n",
       "    <tr>\n",
       "      <th>4</th>\n",
       "      <td>1/9/2012</td>\n",
       "      <td>322.04</td>\n",
       "      <td>322.29</td>\n",
       "      <td>309.46</td>\n",
       "      <td>620.76</td>\n",
       "      <td>11688800</td>\n",
       "    </tr>\n",
       "  </tbody>\n",
       "</table>\n",
       "</div>"
      ],
      "text/plain": [
       "       Date    Open    High     Low   Close    Volume\n",
       "0  1/3/2012  325.25  332.83  324.97  663.59   7380500\n",
       "1  1/4/2012  331.27  333.87  329.08  666.45   5749400\n",
       "2  1/5/2012  329.83  330.75  326.89  657.21   6590300\n",
       "3  1/6/2012  328.34  328.77  323.68  648.24   5405900\n",
       "4  1/9/2012  322.04  322.29  309.46  620.76  11688800"
      ]
     },
     "execution_count": 2,
     "metadata": {},
     "output_type": "execute_result"
    }
   ],
   "source": [
    "df = pd.read_csv('Google_Stock_Price_Train.csv', thousands=',')\n",
    "df_test = pd.read_csv('Google_Stock_Price_Test.csv', thousands=',')\n",
    "df.head()"
   ]
  },
  {
   "cell_type": "code",
   "execution_count": 3,
   "metadata": {},
   "outputs": [
    {
     "data": {
      "text/html": [
       "<div>\n",
       "<style scoped>\n",
       "    .dataframe tbody tr th:only-of-type {\n",
       "        vertical-align: middle;\n",
       "    }\n",
       "\n",
       "    .dataframe tbody tr th {\n",
       "        vertical-align: top;\n",
       "    }\n",
       "\n",
       "    .dataframe thead th {\n",
       "        text-align: right;\n",
       "    }\n",
       "</style>\n",
       "<table border=\"1\" class=\"dataframe\">\n",
       "  <thead>\n",
       "    <tr style=\"text-align: right;\">\n",
       "      <th></th>\n",
       "      <th>Date</th>\n",
       "      <th>Open</th>\n",
       "      <th>High</th>\n",
       "      <th>Low</th>\n",
       "      <th>Close</th>\n",
       "      <th>Volume</th>\n",
       "      <th>Mid</th>\n",
       "    </tr>\n",
       "  </thead>\n",
       "  <tbody>\n",
       "    <tr>\n",
       "      <th>0</th>\n",
       "      <td>1/3/2012</td>\n",
       "      <td>325.25</td>\n",
       "      <td>332.83</td>\n",
       "      <td>324.97</td>\n",
       "      <td>663.59</td>\n",
       "      <td>7380500</td>\n",
       "      <td>328.900</td>\n",
       "    </tr>\n",
       "    <tr>\n",
       "      <th>1</th>\n",
       "      <td>1/4/2012</td>\n",
       "      <td>331.27</td>\n",
       "      <td>333.87</td>\n",
       "      <td>329.08</td>\n",
       "      <td>666.45</td>\n",
       "      <td>5749400</td>\n",
       "      <td>331.475</td>\n",
       "    </tr>\n",
       "    <tr>\n",
       "      <th>2</th>\n",
       "      <td>1/5/2012</td>\n",
       "      <td>329.83</td>\n",
       "      <td>330.75</td>\n",
       "      <td>326.89</td>\n",
       "      <td>657.21</td>\n",
       "      <td>6590300</td>\n",
       "      <td>328.820</td>\n",
       "    </tr>\n",
       "    <tr>\n",
       "      <th>3</th>\n",
       "      <td>1/6/2012</td>\n",
       "      <td>328.34</td>\n",
       "      <td>328.77</td>\n",
       "      <td>323.68</td>\n",
       "      <td>648.24</td>\n",
       "      <td>5405900</td>\n",
       "      <td>326.225</td>\n",
       "    </tr>\n",
       "    <tr>\n",
       "      <th>4</th>\n",
       "      <td>1/9/2012</td>\n",
       "      <td>322.04</td>\n",
       "      <td>322.29</td>\n",
       "      <td>309.46</td>\n",
       "      <td>620.76</td>\n",
       "      <td>11688800</td>\n",
       "      <td>315.875</td>\n",
       "    </tr>\n",
       "  </tbody>\n",
       "</table>\n",
       "</div>"
      ],
      "text/plain": [
       "       Date    Open    High     Low   Close    Volume      Mid\n",
       "0  1/3/2012  325.25  332.83  324.97  663.59   7380500  328.900\n",
       "1  1/4/2012  331.27  333.87  329.08  666.45   5749400  331.475\n",
       "2  1/5/2012  329.83  330.75  326.89  657.21   6590300  328.820\n",
       "3  1/6/2012  328.34  328.77  323.68  648.24   5405900  326.225\n",
       "4  1/9/2012  322.04  322.29  309.46  620.76  11688800  315.875"
      ]
     },
     "execution_count": 3,
     "metadata": {},
     "output_type": "execute_result"
    }
   ],
   "source": [
    "df['Mid'] = (df['High'] + df['Low']) / 2\n",
    "df_test['Mid'] = (df_test['High'] + df_test['Low']) / 2\n",
    "df.head()"
   ]
  },
  {
   "cell_type": "code",
   "execution_count": 4,
   "metadata": {},
   "outputs": [
    {
     "data": {
      "text/html": [
       "<div>\n",
       "<style scoped>\n",
       "    .dataframe tbody tr th:only-of-type {\n",
       "        vertical-align: middle;\n",
       "    }\n",
       "\n",
       "    .dataframe tbody tr th {\n",
       "        vertical-align: top;\n",
       "    }\n",
       "\n",
       "    .dataframe thead th {\n",
       "        text-align: right;\n",
       "    }\n",
       "</style>\n",
       "<table border=\"1\" class=\"dataframe\">\n",
       "  <thead>\n",
       "    <tr style=\"text-align: right;\">\n",
       "      <th></th>\n",
       "      <th>VolumeBand</th>\n",
       "      <th>Up Down</th>\n",
       "    </tr>\n",
       "  </thead>\n",
       "  <tbody>\n",
       "    <tr>\n",
       "      <th>0</th>\n",
       "      <td>(-17070.0, 6250400.0]</td>\n",
       "      <td>0.508906</td>\n",
       "    </tr>\n",
       "    <tr>\n",
       "      <th>1</th>\n",
       "      <td>(6250400.0, 12492900.0]</td>\n",
       "      <td>0.514286</td>\n",
       "    </tr>\n",
       "    <tr>\n",
       "      <th>2</th>\n",
       "      <td>(12492900.0, 18735400.0]</td>\n",
       "      <td>0.600000</td>\n",
       "    </tr>\n",
       "    <tr>\n",
       "      <th>3</th>\n",
       "      <td>(18735400.0, 24977900.0]</td>\n",
       "      <td>0.250000</td>\n",
       "    </tr>\n",
       "  </tbody>\n",
       "</table>\n",
       "</div>"
      ],
      "text/plain": [
       "                 VolumeBand   Up Down\n",
       "0     (-17070.0, 6250400.0]  0.508906\n",
       "1   (6250400.0, 12492900.0]  0.514286\n",
       "2  (12492900.0, 18735400.0]  0.600000\n",
       "3  (18735400.0, 24977900.0]  0.250000"
      ]
     },
     "execution_count": 4,
     "metadata": {},
     "output_type": "execute_result"
    }
   ],
   "source": [
    "df['Up Down'] = np.where(df['Close'].shift(1) > df['Close'], 0, 1)\n",
    "df_test['Up Down'] = np.where(df_test['Close'].shift(1) > df_test['Close'], 0, 1)\n",
    "\n",
    "df['VolumeBand'] = pd.cut(df['Volume'], 4)\n",
    "df[['VolumeBand', 'Up Down']].groupby( ['VolumeBand'], as_index=False).mean().sort_values(by='VolumeBand', ascending=True)"
   ]
  },
  {
   "cell_type": "code",
   "execution_count": 5,
   "metadata": {},
   "outputs": [
    {
     "data": {
      "text/html": [
       "<div>\n",
       "<style scoped>\n",
       "    .dataframe tbody tr th:only-of-type {\n",
       "        vertical-align: middle;\n",
       "    }\n",
       "\n",
       "    .dataframe tbody tr th {\n",
       "        vertical-align: top;\n",
       "    }\n",
       "\n",
       "    .dataframe thead th {\n",
       "        text-align: right;\n",
       "    }\n",
       "</style>\n",
       "<table border=\"1\" class=\"dataframe\">\n",
       "  <thead>\n",
       "    <tr style=\"text-align: right;\">\n",
       "      <th></th>\n",
       "      <th>Date</th>\n",
       "      <th>Open</th>\n",
       "      <th>High</th>\n",
       "      <th>Low</th>\n",
       "      <th>Close</th>\n",
       "      <th>Volume</th>\n",
       "      <th>Mid</th>\n",
       "      <th>Up Down</th>\n",
       "      <th>High Volume</th>\n",
       "    </tr>\n",
       "  </thead>\n",
       "  <tbody>\n",
       "    <tr>\n",
       "      <th>0</th>\n",
       "      <td>1/3/2012</td>\n",
       "      <td>325.25</td>\n",
       "      <td>332.83</td>\n",
       "      <td>324.97</td>\n",
       "      <td>663.59</td>\n",
       "      <td>7380500</td>\n",
       "      <td>328.900</td>\n",
       "      <td>1</td>\n",
       "      <td>0</td>\n",
       "    </tr>\n",
       "    <tr>\n",
       "      <th>1</th>\n",
       "      <td>1/4/2012</td>\n",
       "      <td>331.27</td>\n",
       "      <td>333.87</td>\n",
       "      <td>329.08</td>\n",
       "      <td>666.45</td>\n",
       "      <td>5749400</td>\n",
       "      <td>331.475</td>\n",
       "      <td>1</td>\n",
       "      <td>0</td>\n",
       "    </tr>\n",
       "    <tr>\n",
       "      <th>2</th>\n",
       "      <td>1/5/2012</td>\n",
       "      <td>329.83</td>\n",
       "      <td>330.75</td>\n",
       "      <td>326.89</td>\n",
       "      <td>657.21</td>\n",
       "      <td>6590300</td>\n",
       "      <td>328.820</td>\n",
       "      <td>0</td>\n",
       "      <td>0</td>\n",
       "    </tr>\n",
       "    <tr>\n",
       "      <th>3</th>\n",
       "      <td>1/6/2012</td>\n",
       "      <td>328.34</td>\n",
       "      <td>328.77</td>\n",
       "      <td>323.68</td>\n",
       "      <td>648.24</td>\n",
       "      <td>5405900</td>\n",
       "      <td>326.225</td>\n",
       "      <td>0</td>\n",
       "      <td>0</td>\n",
       "    </tr>\n",
       "    <tr>\n",
       "      <th>4</th>\n",
       "      <td>1/9/2012</td>\n",
       "      <td>322.04</td>\n",
       "      <td>322.29</td>\n",
       "      <td>309.46</td>\n",
       "      <td>620.76</td>\n",
       "      <td>11688800</td>\n",
       "      <td>315.875</td>\n",
       "      <td>0</td>\n",
       "      <td>0</td>\n",
       "    </tr>\n",
       "  </tbody>\n",
       "</table>\n",
       "</div>"
      ],
      "text/plain": [
       "       Date    Open    High     Low   Close    Volume      Mid  Up Down  \\\n",
       "0  1/3/2012  325.25  332.83  324.97  663.59   7380500  328.900        1   \n",
       "1  1/4/2012  331.27  333.87  329.08  666.45   5749400  331.475        1   \n",
       "2  1/5/2012  329.83  330.75  326.89  657.21   6590300  328.820        0   \n",
       "3  1/6/2012  328.34  328.77  323.68  648.24   5405900  326.225        0   \n",
       "4  1/9/2012  322.04  322.29  309.46  620.76  11688800  315.875        0   \n",
       "\n",
       "   High Volume  \n",
       "0            0  \n",
       "1            0  \n",
       "2            0  \n",
       "3            0  \n",
       "4            0  "
      ]
     },
     "execution_count": 5,
     "metadata": {},
     "output_type": "execute_result"
    }
   ],
   "source": [
    "df['High Volume'] = np.where(df['Volume'] > 18735400.0, 1, 0)\n",
    "df = df.drop('VolumeBand', axis=1)\n",
    "df_test['High Volume'] = np.where(df_test['Volume'] > 18735400.0, 1, 0)\n",
    "df.head()"
   ]
  },
  {
   "cell_type": "code",
   "execution_count": 6,
   "metadata": {},
   "outputs": [],
   "source": [
    "feature = ['Open', 'Close', 'Mid', 'High Volume']\n",
    "\n",
    "x = df[feature]\n",
    "y = df['Up Down']\n",
    "\n",
    "x_test = df_test[feature]\n",
    "y_test = df_test['Up Down']"
   ]
  },
  {
   "cell_type": "markdown",
   "metadata": {},
   "source": [
    "### Logistic Regression"
   ]
  },
  {
   "cell_type": "code",
   "execution_count": 7,
   "metadata": {},
   "outputs": [
    {
     "name": "stdout",
     "output_type": "stream",
     "text": [
      "0.75\n"
     ]
    }
   ],
   "source": [
    "lr = LogisticRegression(random_state=1200, solver='lbfgs', multi_class='multinomial').fit(x, y)\n",
    "lr.predict(x_test)\n",
    "lr.predict_proba(x_test)\n",
    "lr_acc = lr.score(x_test,y_test)\n",
    "print(lr_acc)"
   ]
  },
  {
   "cell_type": "markdown",
   "metadata": {},
   "source": [
    "### Neural Networks"
   ]
  },
  {
   "cell_type": "code",
   "execution_count": 8,
   "metadata": {},
   "outputs": [
    {
     "name": "stdout",
     "output_type": "stream",
     "text": [
      "Train on 1006 samples, validate on 252 samples\n",
      "Epoch 1/10\n",
      "1006/1006 [==============================] - 0s 173us/step - loss: 7.5752 - accuracy: 0.5060 - val_loss: 7.3221 - val_accuracy: 0.5198\n",
      "Epoch 2/10\n",
      "1006/1006 [==============================] - 0s 21us/step - loss: 7.5752 - accuracy: 0.5060 - val_loss: 7.3221 - val_accuracy: 0.5198\n",
      "Epoch 3/10\n",
      "1006/1006 [==============================] - 0s 24us/step - loss: 7.5752 - accuracy: 0.5060 - val_loss: 7.3221 - val_accuracy: 0.5198\n",
      "Epoch 4/10\n",
      "1006/1006 [==============================] - 0s 24us/step - loss: 7.5752 - accuracy: 0.5060 - val_loss: 7.3221 - val_accuracy: 0.5198\n",
      "Epoch 5/10\n",
      "1006/1006 [==============================] - 0s 24us/step - loss: 7.5752 - accuracy: 0.5060 - val_loss: 7.3221 - val_accuracy: 0.5198\n",
      "Epoch 6/10\n",
      "1006/1006 [==============================] - 0s 24us/step - loss: 7.5752 - accuracy: 0.5060 - val_loss: 7.3221 - val_accuracy: 0.5198\n",
      "Epoch 7/10\n",
      "1006/1006 [==============================] - 0s 20us/step - loss: 7.5752 - accuracy: 0.5060 - val_loss: 7.3221 - val_accuracy: 0.5198\n",
      "Epoch 8/10\n",
      "1006/1006 [==============================] - 0s 28us/step - loss: 7.5752 - accuracy: 0.5060 - val_loss: 7.3221 - val_accuracy: 0.5198\n",
      "Epoch 9/10\n",
      "1006/1006 [==============================] - 0s 24us/step - loss: 7.5752 - accuracy: 0.5060 - val_loss: 7.3221 - val_accuracy: 0.5198\n",
      "Epoch 10/10\n",
      "1006/1006 [==============================] - 0s 20us/step - loss: 7.5752 - accuracy: 0.5060 - val_loss: 7.3221 - val_accuracy: 0.5198\n",
      "20/20 [==============================] - 0s 0us/step\n",
      "-------------------------------------------\n",
      "0.6000000238418579\n"
     ]
    }
   ],
   "source": [
    "nn = models.Sequential()\n",
    "nn.add(layers.Dense(input_dim=4,\n",
    "                   units=1000,\n",
    "                   activation='relu'))\n",
    "nn.add(layers.Dense(units=1,\n",
    "                    kernel_initializer='normal',\n",
    "                    activation='softmax'))\n",
    "\n",
    "nn.compile( optimizer='adam', loss='binary_crossentropy', metrics=['accuracy']) \n",
    "nn.fit(x, y, epochs=10, validation_split=0.2, batch_size=1000)\n",
    "loss, nn_acc = nn.evaluate(x_test, y_test)\n",
    "print(\"-------------------------------------------\")\n",
    "print(nn_acc)"
   ]
  },
  {
   "cell_type": "markdown",
   "metadata": {},
   "source": [
    "### Adaboost"
   ]
  },
  {
   "cell_type": "code",
   "execution_count": 9,
   "metadata": {},
   "outputs": [
    {
     "name": "stdout",
     "output_type": "stream",
     "text": [
      "0.45\n"
     ]
    }
   ],
   "source": [
    "boost = ensemble.AdaBoostClassifier(n_estimators=100).fit(x, y)\n",
    "boost.predict(x_test)\n",
    "boost.predict_proba(x_test)\n",
    "boost_acc = boost.score(x_test,y_test)\n",
    "print(boost_acc)"
   ]
  }
 ],
 "metadata": {
  "kernelspec": {
   "display_name": "Python 3",
   "language": "python",
   "name": "python3"
  },
  "language_info": {
   "codemirror_mode": {
    "name": "ipython",
    "version": 3
   },
   "file_extension": ".py",
   "mimetype": "text/x-python",
   "name": "python",
   "nbconvert_exporter": "python",
   "pygments_lexer": "ipython3",
   "version": "3.6.5"
  }
 },
 "nbformat": 4,
 "nbformat_minor": 4
}
